{
 "cells": [
  {
   "cell_type": "code",
   "execution_count": null,
   "id": "e2f5a8e9",
   "metadata": {},
   "outputs": [],
   "source": [
    "#############################################################################################################\n",
    "##### Notebook Processamento de Linguagem natural (PLN)\n",
    "##### Baseado em:\n",
    "## Natural Language Processing with Python (book)\n",
    "##\n",
    "##############################################################################################################\n",
    "## Objetivos:\n",
    "##   Exemplo pratico do uso de NLP para resumo de texto\n"
   ]
  },
  {
   "cell_type": "code",
   "execution_count": 1,
   "id": "4034acd0",
   "metadata": {},
   "outputs": [],
   "source": [
    "import nltk\n",
    "from nltk.tokenize import word_tokenize\n",
    "from nltk.tokenize import sent_tokenize\n",
    "from nltk.corpus import stopwords\n",
    "from string import punctuation\n",
    "from nltk.probability import FreqDist\n",
    "from collections import defaultdict\n",
    "from heapq import nlargest\n",
    "import pandas as pd"
   ]
  },
  {
   "cell_type": "code",
   "execution_count": 3,
   "id": "7b2cd645",
   "metadata": {},
   "outputs": [
    {
     "name": "stdout",
     "output_type": "stream",
     "text": [
      "O dia 22 de abril de 1500 ficou marcado na história brasileira como a data da chegada dos portugueses ao Brasil. Esse acontecimento também é chamado por alguns de “descobrimento do Brasil”, e a expedição portuguesa, formada inicialmente com 13 embarcações, era liderada pelo capitão-mor Pedro Álvares Cabral.\n",
      "\n",
      "A expedição portuguesa e as notícias do achamento do Brasil foram relatadas pelo escrivão da expedição, Pero Vaz de Caminha. Os portugueses permaneceram em terras brasileiras até o dia 2 de maio de 1500, quando, então, seguiram viagem em direção à Índia, o grande objetivo da expedição.\n",
      "\n",
      "A chegada dos portugueses ao Brasil é um dos resultados finais das grandes navegações, a exploração oceânica que se deu ao longo de todo o século XV. Apesar dos espanhóis terem chegado ao continente americano primeiro, os portugueses são considerados os pioneiros nesse processo de exploração, fazendo grandes “descobertas” nesse período.\n",
      "\n",
      "O papel pioneiro dos portugueses foi estudado pelos historiadores e justificado com base em fatores políticos, econômicos e geográficos. Primeiro ponto de destaque refere-se à estabilidade política e ao fato de que Portugal tinha um território unificado havia séculos. No caso territorial, os portugueses tinham expulsado os mouros, em 1249. Em comparação, a Espanha, por exemplo, lutou contra os mouros até 1492, e ingleses e franceses lutaram entre si, na Guerra dos Cem Anos, até 1453.\n",
      "\n",
      "Além de ter um território consolidado, Portugal desfrutava de uma política estável e sem conflitos desde que a dinastia de Avis iniciou-se, no final do século XIV, quando João, mestre de Avis foi coroado rei de Portugal. A estabilidade política e o território unificado possibilitaram o país desfrutar de um desenvolvimento comercial e tecnológico.\n",
      "\n",
      "Esse desenvolvimento tecnológico garantiu melhorias na navegação marítima cruciais para que os portugueses explorassem os oceanos. Essa exploração englobava os interesses de expansão comercial, militar e religiosa dos portugueses. Na questão comercial, os portugueses possuíam um centro comercial muito importante em Lisboa.\n",
      "\n",
      "O interesse em mercadorias exóticas, como as especiarias (pimenta-do-reino e canela, por exemplo), era o que mais movia os portugueses nesse contexto. A Índia possuía um vastíssimo mercado delas, motivando-os a manterem contatos comerciais com ela. Como a rota tradicional, passando por Constantinopla, havia sido fechada, era necessário explorar o oceano para achar uma nova passagem.\n",
      "\n",
      "Para isso, Portugal decidiu explorar a costa do continente africano à procura de uma passagem que levasse à Índia. Essas expedições fizeram-nos chegar a lugares, como Madeira, Açores e Cabo Verde. Eles também fizeram a instalação de feitorias, isto é, entrepostos comerciais, ao longo da costa africana. O desejo de expansão também se deve ao fato de que os portugueses, enquanto cristãos, procuravam expandir seus domínios como maneira de promover a cristianização.\n",
      "\n",
      "Para isso, Portugal decidiu explorar a costa do continente africano à procura de uma passagem que levasse à Índia. Essas expedições fizeram-nos chegar a lugares, como Madeira, Açores e Cabo Verde. Eles também fizeram a instalação de feitorias, isto é, entrepostos comerciais, ao longo da costa africana. O desejo de expansão também se deve ao fato de que os portugueses, enquanto cristãos, procuravam expandir seus domínios como maneira de promover a cristianização.\n",
      "\n",
      "A assinatura do Tratado de Tordesilhas, portanto, era um marco que reforça a ideia de que os portugueses sabiam que poderiam existir terras a oeste, eles só não tinham chegado a elas ainda. Depois que o continente africano foi contornado, eles puderam manter contato comercial com a Índia. Foi nesse contexto que se organizou a expedição de Pedro Álvares Cabral. Os portugueses queriam explorar as possibilidades a oeste, e depois iriam à Índia comprar especiarias.\n",
      "\n",
      "Assim, como podemos perceber, o capitão-mor da expedição foi Cabral, e ele estava à frente de 13 embarcações, sendo três caravelas e 10 naus, que zarparam de Lisboa em 9 de março de 1500. A rota da expedição seguiu um caminho não muito comum, uma demonstração de que eles fariam uma mudança nela, de forma a explorar o oeste antes de ir para a Índia.\n",
      "\n",
      "A expedição entrou na zona de calmaria do oceano entre os dias 29 e 30 de março, permanecendo nela por cerca de 10 dias. Ela cruzou a Linha do Equador no dia 9 de abril, e em 21 de abril, os primeiros sinais de terra tinham sido avistados: algas marinhas. No dia seguinte, 22 de abril, foram avistadas aves pela manhã, e, no entardecer, os portugueses avistaram o Monte Pascoal.\n"
     ]
    }
   ],
   "source": [
    "# Carregando o texto\n",
    "\n",
    "#f = open('acordao1.txt', encoding=\"utf8\") # <<<<< modifique com um texto qualquer\n",
    "f = open('brasil.txt', encoding=\"utf8\") # <<<<< modifique com um texto qualquer\n",
    "acordao = f.read()\n",
    "f.close()\n",
    "print(acordao)"
   ]
  },
  {
   "cell_type": "code",
   "execution_count": 4,
   "id": "7ed129d5",
   "metadata": {},
   "outputs": [
    {
     "data": {
      "text/html": [
       "<div>\n",
       "<style scoped>\n",
       "    .dataframe tbody tr th:only-of-type {\n",
       "        vertical-align: middle;\n",
       "    }\n",
       "\n",
       "    .dataframe tbody tr th {\n",
       "        vertical-align: top;\n",
       "    }\n",
       "\n",
       "    .dataframe thead th {\n",
       "        text-align: right;\n",
       "    }\n",
       "</style>\n",
       "<table border=\"1\" class=\"dataframe\">\n",
       "  <thead>\n",
       "    <tr style=\"text-align: right;\">\n",
       "      <th></th>\n",
       "      <th>Word</th>\n",
       "      <th>Frequency</th>\n",
       "    </tr>\n",
       "  </thead>\n",
       "  <tbody>\n",
       "    <tr>\n",
       "      <th>0</th>\n",
       "      <td>dia</td>\n",
       "      <td>4</td>\n",
       "    </tr>\n",
       "    <tr>\n",
       "      <th>1</th>\n",
       "      <td>22</td>\n",
       "      <td>2</td>\n",
       "    </tr>\n",
       "    <tr>\n",
       "      <th>2</th>\n",
       "      <td>abril</td>\n",
       "      <td>4</td>\n",
       "    </tr>\n",
       "    <tr>\n",
       "      <th>3</th>\n",
       "      <td>1500</td>\n",
       "      <td>2</td>\n",
       "    </tr>\n",
       "    <tr>\n",
       "      <th>4</th>\n",
       "      <td>ficou</td>\n",
       "      <td>1</td>\n",
       "    </tr>\n",
       "    <tr>\n",
       "      <th>...</th>\n",
       "      <td>...</td>\n",
       "      <td>...</td>\n",
       "    </tr>\n",
       "    <tr>\n",
       "      <th>272</th>\n",
       "      <td>manhã</td>\n",
       "      <td>1</td>\n",
       "    </tr>\n",
       "    <tr>\n",
       "      <th>273</th>\n",
       "      <td>entardecer</td>\n",
       "      <td>1</td>\n",
       "    </tr>\n",
       "    <tr>\n",
       "      <th>274</th>\n",
       "      <td>avistaram</td>\n",
       "      <td>1</td>\n",
       "    </tr>\n",
       "    <tr>\n",
       "      <th>275</th>\n",
       "      <td>monte</td>\n",
       "      <td>1</td>\n",
       "    </tr>\n",
       "    <tr>\n",
       "      <th>276</th>\n",
       "      <td>pascoal</td>\n",
       "      <td>1</td>\n",
       "    </tr>\n",
       "  </tbody>\n",
       "</table>\n",
       "<p>277 rows × 2 columns</p>\n",
       "</div>"
      ],
      "text/plain": [
       "           Word  Frequency\n",
       "0           dia          4\n",
       "1            22          2\n",
       "2         abril          4\n",
       "3          1500          2\n",
       "4         ficou          1\n",
       "..          ...        ...\n",
       "272       manhã          1\n",
       "273  entardecer          1\n",
       "274   avistaram          1\n",
       "275       monte          1\n",
       "276     pascoal          1\n",
       "\n",
       "[277 rows x 2 columns]"
      ]
     },
     "execution_count": 4,
     "metadata": {},
     "output_type": "execute_result"
    }
   ],
   "source": [
    "# Pre-processamento (tokenize de sentencas, de palavras, stopwords e distr. frequencia)\n",
    "\n",
    "sentencas = sent_tokenize(acordao)\n",
    "palavras = word_tokenize(acordao.lower())\n",
    "\n",
    "stopwords_ = set(stopwords.words('portuguese') + list(punctuation))\n",
    "palavras_sem_stopwords = [palavra for palavra in palavras if palavra not in stopwords_]\n",
    "\n",
    "frequencia = FreqDist(palavras_sem_stopwords)\n",
    "\n",
    "pd.DataFrame(list(frequencia.items()), columns = [\"Word\",\"Frequency\"])"
   ]
  },
  {
   "cell_type": "code",
   "execution_count": 5,
   "id": "8899756e",
   "metadata": {},
   "outputs": [],
   "source": [
    "# Processamento principal\n",
    "## separar as sentenças mais importantes do texto.\n",
    "## as sentenças mais importantes são aquelas que possuem as palavras mais frequentes\n",
    "\n",
    "sentencas_importantes = defaultdict(int)\n",
    "\n",
    "for i, sentenca in enumerate(sentencas):\n",
    "  for palavra in word_tokenize(sentenca.lower()):\n",
    "    if palavra in frequencia:\n",
    "      sentencas_importantes[i] += frequencia[palavra]"
   ]
  },
  {
   "cell_type": "code",
   "execution_count": 6,
   "id": "14f337a4",
   "metadata": {},
   "outputs": [
    {
     "name": "stdout",
     "output_type": "stream",
     "text": [
      "A rota da expedição seguiu um caminho não muito comum, uma demonstração de que eles fariam uma mudança nela, de forma a explorar o oeste antes de ir para a Índia.\n",
      "\n",
      "\n",
      "A expedição entrou na zona de calmaria do oceano entre os dias 29 e 30 de março, permanecendo nela por cerca de 10 dias.\n",
      "\n",
      "\n",
      "Ela cruzou a Linha do Equador no dia 9 de abril, e em 21 de abril, os primeiros sinais de terra tinham sido avistados: algas marinhas.\n",
      "\n",
      "\n",
      "No dia seguinte, 22 de abril, foram avistadas aves pela manhã, e, no entardecer, os portugueses avistaram o Monte Pascoal.\n",
      "\n",
      "\n"
     ]
    }
   ],
   "source": [
    "#Saida\n",
    "\n",
    "resumo = \"\"\n",
    "\n",
    "idx_main_sents = nlargest(4, sentencas_importantes)\n",
    "\n",
    "for i in sorted(idx_main_sents):\n",
    "  resumo = resumo + ' ' + sentencas[i]\n",
    "  print(sentencas[i])\n",
    "  print('\\n')"
   ]
  },
  {
   "cell_type": "code",
   "execution_count": 7,
   "id": "38932e58",
   "metadata": {},
   "outputs": [
    {
     "data": {
      "text/plain": [
       "' A rota da expedição seguiu um caminho não muito comum, uma demonstração de que eles fariam uma mudança nela, de forma a explorar o oeste antes de ir para a Índia. A expedição entrou na zona de calmaria do oceano entre os dias 29 e 30 de março, permanecendo nela por cerca de 10 dias. Ela cruzou a Linha do Equador no dia 9 de abril, e em 21 de abril, os primeiros sinais de terra tinham sido avistados: algas marinhas. No dia seguinte, 22 de abril, foram avistadas aves pela manhã, e, no entardecer, os portugueses avistaram o Monte Pascoal.'"
      ]
     },
     "execution_count": 7,
     "metadata": {},
     "output_type": "execute_result"
    }
   ],
   "source": [
    "resumo"
   ]
  },
  {
   "cell_type": "code",
   "execution_count": null,
   "id": "331e76b8",
   "metadata": {},
   "outputs": [],
   "source": []
  }
 ],
 "metadata": {
  "kernelspec": {
   "display_name": "Python 3 (ipykernel)",
   "language": "python",
   "name": "python3"
  },
  "language_info": {
   "codemirror_mode": {
    "name": "ipython",
    "version": 3
   },
   "file_extension": ".py",
   "mimetype": "text/x-python",
   "name": "python",
   "nbconvert_exporter": "python",
   "pygments_lexer": "ipython3",
   "version": "3.8.18"
  }
 },
 "nbformat": 4,
 "nbformat_minor": 5
}
